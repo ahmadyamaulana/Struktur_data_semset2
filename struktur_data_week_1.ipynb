{
  "nbformat": 4,
  "nbformat_minor": 0,
  "metadata": {
    "colab": {
      "provenance": []
    },
    "kernelspec": {
      "name": "python3",
      "display_name": "Python 3"
    },
    "language_info": {
      "name": "python"
    }
  },
  "cells": [
    {
      "cell_type": "code",
      "execution_count": null,
      "metadata": {
        "colab": {
          "base_uri": "https://localhost:8080/"
        },
        "id": "k645vP-U3Vt9",
        "outputId": "dc0dd29b-8fe6-4d55-8f6c-9cdd0b032f41"
      },
      "outputs": [
        {
          "output_type": "stream",
          "name": "stdout",
          "text": [
            "Array dengan list: [10, 20, 30, 40, 50]\n"
          ]
        }
      ],
      "source": [
        "#deklarasi array menggunakan list\n",
        "angka = [10,20,30,40,50]\n",
        "print(\"Array dengan list:\", angka)"
      ]
    },
    {
      "cell_type": "code",
      "source": [
        "import array\n",
        "angka = array.array('i', [10,20,30,40,50])\n",
        "print(\"Array dengan module array:\", angka)"
      ],
      "metadata": {
        "colab": {
          "base_uri": "https://localhost:8080/"
        },
        "id": "VZFBj_r836hY",
        "outputId": "a92eb757-e833-431d-d730-64b54adb60e2"
      },
      "execution_count": null,
      "outputs": [
        {
          "output_type": "stream",
          "name": "stdout",
          "text": [
            "Array dengan module array: array('i', [10, 20, 30, 40, 50])\n"
          ]
        }
      ]
    },
    {
      "cell_type": "code",
      "source": [
        "import numpy as np\n",
        "angka = np.array([10,20,30,40,50])\n",
        "print(\"Array dengan numpy:\", angka)"
      ],
      "metadata": {
        "colab": {
          "base_uri": "https://localhost:8080/"
        },
        "id": "ISq7TpSO4LBx",
        "outputId": "0cf49417-9c1c-46e4-d10f-01b430264ed6"
      },
      "execution_count": null,
      "outputs": [
        {
          "output_type": "stream",
          "name": "stdout",
          "text": [
            "Array dengan numpy: [10 20 30 40 50]\n"
          ]
        }
      ]
    },
    {
      "cell_type": "code",
      "source": [
        "import numpy as np\n",
        "angka = np.array([1,2,3,4,5])\n",
        "print(\"Array satu dimensi :\", angka)"
      ],
      "metadata": {
        "colab": {
          "base_uri": "https://localhost:8080/"
        },
        "id": "WpKYN3sO4zj-",
        "outputId": "923ac0d2-531f-40af-a632-c8358ad50d0e"
      },
      "execution_count": null,
      "outputs": [
        {
          "output_type": "stream",
          "name": "stdout",
          "text": [
            "Array satu dimensi : [1 2 3 4 5]\n"
          ]
        }
      ]
    },
    {
      "cell_type": "code",
      "source": [
        "matriks = np.array([[1,2,3],[4,5,6],[7,8,9]])\n",
        "print(\"Array dua dimensi :\", matriks)"
      ],
      "metadata": {
        "colab": {
          "base_uri": "https://localhost:8080/"
        },
        "id": "G_9DmcNP5YJv",
        "outputId": "1e88c32b-3731-4a66-b0be-58f706b1821a"
      },
      "execution_count": null,
      "outputs": [
        {
          "output_type": "stream",
          "name": "stdout",
          "text": [
            "Array dua dimensi : [[1 2 3]\n",
            " [4 5 6]\n",
            " [7 8 9]]\n"
          ]
        }
      ]
    },
    {
      "cell_type": "code",
      "source": [
        "array3D = np.array([[[1,2], [3,4], [5,6], [7,8]]])\n",
        "print(\"Array tiga dimensi :\", array3D)"
      ],
      "metadata": {
        "colab": {
          "base_uri": "https://localhost:8080/"
        },
        "id": "EGMJvqwo5lfG",
        "outputId": "b5410f70-0d9e-4d74-9bc0-fa34127e67c7"
      },
      "execution_count": null,
      "outputs": [
        {
          "output_type": "stream",
          "name": "stdout",
          "text": [
            "Array tiga dimensi : [[[1 2]\n",
            "  [3 4]\n",
            "  [5 6]\n",
            "  [7 8]]]\n"
          ]
        }
      ]
    },
    {
      "cell_type": "code",
      "source": [
        "#deklarasi array kosong\n",
        "angka = []\n",
        "\n",
        "# inisialisasi array dengan element\n",
        "angka = [10,20,30,40,50]\n",
        "\n",
        "#akses elemet\n",
        "print(\"elemet pertama:\", angka[0])\n",
        "print(\"elemet kelima:\", angka[-1])\n",
        "\n",
        "#menambahkan element baru\n",
        "angka.append(60)\n",
        "print(\"isi array angka :\", angka)\n",
        "\n",
        "#menghapus element\n",
        "angka.remove(30)\n",
        "print(\"isi array angka :\", angka)\n",
        "\n",
        "#literasi array\n",
        "for nilai in angka:\n",
        "  print(\"nilai:\", nilai)"
      ],
      "metadata": {
        "colab": {
          "base_uri": "https://localhost:8080/"
        },
        "id": "0KeKg66f_aVs",
        "outputId": "f8cdf98c-4aec-4c20-8bcc-670486ed0105"
      },
      "execution_count": null,
      "outputs": [
        {
          "output_type": "stream",
          "name": "stdout",
          "text": [
            "elemet pertama: 10\n",
            "elemet kelima: 50\n",
            "isi array angka : [10, 20, 30, 40, 50, 60]\n",
            "isi array angka : [10, 20, 40, 50, 60]\n",
            "nilai: 10\n",
            "nilai: 20\n",
            "nilai: 40\n",
            "nilai: 50\n",
            "nilai: 60\n"
          ]
        }
      ]
    },
    {
      "cell_type": "code",
      "source": [
        "#deklarasi array kosong\n",
        "data = []\n",
        "\n",
        "# inisialisasi array dengan element\n",
        "angka = [10,20,30,40,50]\n",
        "\n",
        "#menampilkan isi array\n",
        "print (\"isi array angka :\", angka)"
      ],
      "metadata": {
        "colab": {
          "base_uri": "https://localhost:8080/"
        },
        "id": "LEldpz1h54zn",
        "outputId": "593fa08b-b38c-4c74-b5ac-2ca4d3e8e7c8"
      },
      "execution_count": null,
      "outputs": [
        {
          "output_type": "stream",
          "name": "stdout",
          "text": [
            "isi array angka : [10, 20, 30, 40, 50]\n"
          ]
        }
      ]
    },
    {
      "cell_type": "markdown",
      "source": [
        "# **Latihan 1**"
      ],
      "metadata": {
        "id": "NFFzsQKp-Avd"
      }
    },
    {
      "cell_type": "code",
      "source": [
        "npm = np.array([[2440506069],[2440506070],[2440506071],[2440506072]])\n",
        "print(\"NPM :\", npm)"
      ],
      "metadata": {
        "colab": {
          "base_uri": "https://localhost:8080/"
        },
        "id": "FWELNy-b-F6c",
        "outputId": "2085b8c0-71f4-4b0f-f984-227dd4014dec"
      },
      "execution_count": null,
      "outputs": [
        {
          "output_type": "stream",
          "name": "stdout",
          "text": [
            "NPM : [[2440506069]\n",
            " [2440506070]\n",
            " [2440506071]\n",
            " [2440506072]]\n"
          ]
        }
      ]
    },
    {
      "cell_type": "code",
      "source": [
        " #mengakses element array\n",
        "print(\"element pertama:\", angka[0])\n",
        "print(\"element terakhir:\", angka[-1])"
      ],
      "metadata": {
        "colab": {
          "base_uri": "https://localhost:8080/"
        },
        "id": "Nq197FNa8Shu",
        "outputId": "c6e9ffb5-3b24-4b40-f5b0-455055d757e7"
      },
      "execution_count": null,
      "outputs": [
        {
          "output_type": "stream",
          "name": "stdout",
          "text": [
            "element pertama: 10\n",
            "element terakhir: 50\n"
          ]
        }
      ]
    },
    {
      "cell_type": "code",
      "source": [
        "#Menambahkan element menggunakan append()\n",
        "angka.append(60)\n",
        "print(\"isi array angka :\", angka)\n",
        "\n",
        "# menambah element mengunakan insert\n",
        "angka.insert(2, 25)\n",
        "print(\"isi array angka :\", angka)"
      ],
      "metadata": {
        "colab": {
          "base_uri": "https://localhost:8080/"
        },
        "id": "u2iKepia8zq9",
        "outputId": "c6aa7b57-ee25-4efd-d47f-5ec1791b0653"
      },
      "execution_count": null,
      "outputs": [
        {
          "output_type": "stream",
          "name": "stdout",
          "text": [
            "isi array angka : [10, 20, 30, 40, 50, 60]\n",
            "isi array angka : [10, 20, 25, 30, 40, 50, 60]\n"
          ]
        }
      ]
    },
    {
      "cell_type": "code",
      "source": [
        "#menghapus element menggunakan remove ()\n",
        "angka.remove(25) #menghapus nilai 25\n",
        "print(\"array setelah menghapus element 25:\", angka)\n",
        "\n",
        "#menghapus element menggunakan pop()\n",
        "angka.pop(2) #menghapus element pada indeks ke-2\n",
        "print(\"array setelah menghapus element pada indeks ke-2:\", angka)"
      ],
      "metadata": {
        "colab": {
          "base_uri": "https://localhost:8080/"
        },
        "id": "l6thWHDk9M21",
        "outputId": "55cbdd7c-c378-4730-9cb5-aacd13997138"
      },
      "execution_count": null,
      "outputs": [
        {
          "output_type": "stream",
          "name": "stdout",
          "text": [
            "array setelah menghapus element 25: [10, 20, 30, 40, 50, 60]\n",
            "array setelah menghapus element pada indeks ke-2: [10, 20, 40, 50, 60]\n"
          ]
        }
      ]
    },
    {
      "cell_type": "code",
      "source": [
        "#mengubah element pada indeks 0\n",
        "angka [0] = 100\n",
        "print(\"isi array angka :\", angka)"
      ],
      "metadata": {
        "colab": {
          "base_uri": "https://localhost:8080/"
        },
        "id": "i25-1dEZA8W0",
        "outputId": "1a13c1ce-8c92-48ee-9d6a-a7435975c142"
      },
      "execution_count": null,
      "outputs": [
        {
          "output_type": "stream",
          "name": "stdout",
          "text": [
            "isi array angka : [100, 20, 40, 50, 60]\n"
          ]
        }
      ]
    },
    {
      "cell_type": "markdown",
      "source": [
        "# **Latihan 2**"
      ],
      "metadata": {
        "id": "dzlhcrdVB_by"
      }
    },
    {
      "cell_type": "code",
      "source": [
        "data = []\n",
        "\n",
        "angka = [2440506069,2440506070,2440506071]\n",
        "\n",
        "for nilai in angka:\n",
        "  dua_digit_terakhir = nilai % 100\n",
        "  data.append(dua_digit_terakhir)\n",
        "\n",
        "print(\"dua digit terakhir :\", data)\n",
        "\n",
        "angka.pop(0)\n",
        "print(\"angka setelah update:\", angka)"
      ],
      "metadata": {
        "colab": {
          "base_uri": "https://localhost:8080/"
        },
        "id": "0Nt7qqXyCDSq",
        "outputId": "a0a9647b-287a-4154-ee6c-acc2a7eda79d"
      },
      "execution_count": null,
      "outputs": [
        {
          "output_type": "stream",
          "name": "stdout",
          "text": [
            "dua digit terakhir : [69, 70, 71]\n",
            "angka setelah update: [2440506070, 2440506071]\n"
          ]
        }
      ]
    },
    {
      "cell_type": "code",
      "source": [
        "angka =[10,20,30,40]\n",
        "\n",
        "for nilai in angka:\n",
        "  print(\"nilai:\", nilai)\n"
      ],
      "metadata": {
        "colab": {
          "base_uri": "https://localhost:8080/"
        },
        "id": "vzAYjRpSIy-_",
        "outputId": "3dcd8e4c-167c-4c3b-b66d-54f445ed5d49"
      },
      "execution_count": null,
      "outputs": [
        {
          "output_type": "stream",
          "name": "stdout",
          "text": [
            "nilai: 10\n",
            "nilai: 20\n",
            "nilai: 30\n",
            "nilai: 40\n"
          ]
        }
      ]
    },
    {
      "cell_type": "markdown",
      "source": [
        "# **Latihan 3**"
      ],
      "metadata": {
        "id": "5X2o-tQ8L6cW"
      }
    },
    {
      "cell_type": "code",
      "source": [
        "import array\n",
        "nama_array = ['FT', 'FE', 'FKIP', 'FAPERTA', 'FISIP']\n",
        "\n",
        "for nama in nama_array:\n",
        "    print(nama)\n"
      ],
      "metadata": {
        "colab": {
          "base_uri": "https://localhost:8080/"
        },
        "id": "f-n54oFHLx69",
        "outputId": "e53f1a9e-966b-4658-a6a1-eed5054d25fa"
      },
      "execution_count": null,
      "outputs": [
        {
          "output_type": "stream",
          "name": "stdout",
          "text": [
            "FT\n",
            "FE\n",
            "FKIP\n",
            "FAPERTA\n",
            "FISIP\n"
          ]
        }
      ]
    },
    {
      "cell_type": "code",
      "source": [
        "angka = [10,20,30,40]\n",
        "\n",
        "print(\"jumlah total:\", sum(angka))\n",
        "print(\"nilai terbesar:\", max(angka))\n",
        "print(\"nilai terkecil:\", min(angka))"
      ],
      "metadata": {
        "colab": {
          "base_uri": "https://localhost:8080/"
        },
        "id": "ZDIj9-6aMZRt",
        "outputId": "2be07202-e69c-489e-83c2-bd929f3c3c1c"
      },
      "execution_count": null,
      "outputs": [
        {
          "output_type": "stream",
          "name": "stdout",
          "text": [
            "jumlah total: 100\n",
            "nilai terbesar: 40\n",
            "nilai terkecil: 10\n"
          ]
        }
      ]
    },
    {
      "cell_type": "markdown",
      "source": [
        "# **Latihan 4**"
      ],
      "metadata": {
        "id": "_mJVJ6NNOHLV"
      }
    },
    {
      "cell_type": "code",
      "source": [
        "harga_barang = [500,1000,2000,3000]\n",
        "\n",
        "print(\"jumlah total:\", sum(harga_barang))\n",
        "print(\"nilai terbesar:\", max(harga_barang))\n",
        "print(\"nilai terkecil:\", min(harga_barang))"
      ],
      "metadata": {
        "colab": {
          "base_uri": "https://localhost:8080/"
        },
        "id": "vRyVPSLBNVU9",
        "outputId": "fccacd30-709a-4f7d-9993-da21ea58062c"
      },
      "execution_count": null,
      "outputs": [
        {
          "output_type": "stream",
          "name": "stdout",
          "text": [
            "jumlah total: 6500\n",
            "nilai terbesar: 3000\n",
            "nilai terkecil: 500\n"
          ]
        }
      ]
    },
    {
      "cell_type": "code",
      "source": [
        "#deklarasi array 2D\n",
        "matriks = [\n",
        "    [1, 2, 3],\n",
        "    [4, 5, 6],\n",
        "    [7, 8, 9]\n",
        "]\n",
        "\n",
        "#menampilkan isi array 2D\n",
        "print(\"isi array 2D:\",)\n",
        "for baris in matriks:\n",
        "  print(baris)"
      ],
      "metadata": {
        "colab": {
          "base_uri": "https://localhost:8080/"
        },
        "id": "-Qd_3bQ4OF58",
        "outputId": "1aca3932-daa1-4592-e81f-622da4499949"
      },
      "execution_count": null,
      "outputs": [
        {
          "output_type": "stream",
          "name": "stdout",
          "text": [
            "isi array 2D:\n",
            "[1, 2, 3]\n",
            "[4, 5, 6]\n",
            "[7, 8, 9]\n"
          ]
        }
      ]
    },
    {
      "cell_type": "markdown",
      "source": [
        "# **Latihan 5**"
      ],
      "metadata": {
        "id": "LUDaVz2BO3Rs"
      }
    },
    {
      "cell_type": "code",
      "source": [
        "matriks = [\n",
        "    [1, 2, 3],\n",
        "    [4, 5, 6],\n",
        "    [7, 8, 9],\n",
        "    [10, 11, 12]\n",
        "]\n",
        "\n",
        "print(\"isi array 2D:\",)\n",
        "for baris in matriks:\n",
        "  print(baris)"
      ],
      "metadata": {
        "colab": {
          "base_uri": "https://localhost:8080/"
        },
        "id": "ToE-MKyUOupt",
        "outputId": "391c6ccc-a460-487e-e312-b6218ff8ed66"
      },
      "execution_count": null,
      "outputs": [
        {
          "output_type": "stream",
          "name": "stdout",
          "text": [
            "isi array 2D:\n",
            "[1, 2, 3]\n",
            "[4, 5, 6]\n",
            "[7, 8, 9]\n",
            "[10, 11, 12]\n"
          ]
        }
      ]
    },
    {
      "cell_type": "code",
      "source": [
        "#mengakses element pada baris ke-1 kolom ke-2 (indeks [0][1])\n",
        "print (\"element baris ke-1 kolom ke-2:\", matriks[0][1])\n",
        "\n",
        "#mengakses element terakhir (baris ke-3, kolom ke-3)\n",
        "print(\"element terakhir:\", matriks[-1][-1])"
      ],
      "metadata": {
        "colab": {
          "base_uri": "https://localhost:8080/"
        },
        "id": "O4kNrnnEPBA0",
        "outputId": "5394cab6-3835-44ca-dd84-b6bae5d1c3c5"
      },
      "execution_count": null,
      "outputs": [
        {
          "output_type": "stream",
          "name": "stdout",
          "text": [
            "element baris ke-1 kolom ke-2: 2\n",
            "element terakhir: 12\n"
          ]
        }
      ]
    },
    {
      "cell_type": "markdown",
      "source": [
        "# **Latihan 6**"
      ],
      "metadata": {
        "id": "mmtO2kD_Pj2M"
      }
    },
    {
      "cell_type": "code",
      "source": [
        "print(\"Element baris ke-2 kolom ke-4:\", matriks[3][1])"
      ],
      "metadata": {
        "colab": {
          "base_uri": "https://localhost:8080/"
        },
        "id": "-Wt4pg-xPP0U",
        "outputId": "20689886-b7c9-41fc-d462-ab1e7ad58fd5"
      },
      "execution_count": null,
      "outputs": [
        {
          "output_type": "stream",
          "name": "stdout",
          "text": [
            "Element baris ke-2 kolom ke-4: 11\n"
          ]
        }
      ]
    },
    {
      "cell_type": "code",
      "source": [
        "#menambahkan baris baru\n",
        "matriks.append([10, 11, 12])\n",
        "print(\"Array setelah menambahkan baris baru:\", matriks)\n",
        "\n",
        "#menambahkan element pada baris ke-2\n",
        "matriks[1].append(99)\n",
        "print(\"Array setelah menambahkan element pada baris ke-2:\", matriks)\n",
        "for baris in matriks:\n",
        "  print(baris)"
      ],
      "metadata": {
        "id": "7pcps_kjP7bk",
        "colab": {
          "base_uri": "https://localhost:8080/"
        },
        "outputId": "bae72dbd-3e9e-4ec6-dbfc-70addcbeaa43"
      },
      "execution_count": null,
      "outputs": [
        {
          "output_type": "stream",
          "name": "stdout",
          "text": [
            "Array setelah menambahkan baris baru: [[1, 2, 3], [4, 5, 6], [7, 8, 9], [10, 11, 12], [10, 11, 12]]\n",
            "Array setelah menambahkan element pada baris ke-2: [[1, 2, 3], [4, 5, 6, 99], [7, 8, 9], [10, 11, 12], [10, 11, 12]]\n",
            "[1, 2, 3]\n",
            "[4, 5, 6, 99]\n",
            "[7, 8, 9]\n",
            "[10, 11, 12]\n",
            "[10, 11, 12]\n"
          ]
        }
      ]
    },
    {
      "cell_type": "markdown",
      "source": [
        "# **Latihan 7**"
      ],
      "metadata": {
        "id": "XERy3iSq5kki"
      }
    },
    {
      "cell_type": "code",
      "source": [
        "tanggal = [\n",
        "    [28,2]\n",
        "    ]\n",
        "\n",
        "tanggal.append([20,5])\n",
        "for x in tanggal:\n",
        "  print(x)\n"
      ],
      "metadata": {
        "id": "spVFiMls5QT-",
        "colab": {
          "base_uri": "https://localhost:8080/"
        },
        "outputId": "e2686afc-c1e9-4553-d3b8-67e62788091a"
      },
      "execution_count": null,
      "outputs": [
        {
          "output_type": "stream",
          "name": "stdout",
          "text": [
            "[28, 2]\n",
            "[20, 5]\n"
          ]
        }
      ]
    },
    {
      "cell_type": "code",
      "source": [
        "# menghapus elemen tertentu dari baris ke-1\n",
        "matriks[0].remove(2)\n",
        "print(\"Array setelah menghapus element 2 dari baris pertama:\", matriks)\n",
        "\n",
        "#mengubah element pada indeks tertentu dari baris ke-2\n",
        "matriks[1].pop(1)\n",
        "print(\"Array setelah menghapus element pada indeks ke-1 dari baris ke-2:\", matriks)"
      ],
      "metadata": {
        "colab": {
          "base_uri": "https://localhost:8080/"
        },
        "id": "ql3tmFXlBQg-",
        "outputId": "4d06ce50-c2ba-411a-f79d-bb23c13f83b9"
      },
      "execution_count": null,
      "outputs": [
        {
          "output_type": "stream",
          "name": "stdout",
          "text": [
            "Array setelah menghapus element 2 dari baris pertama: [[1, 3], [4, 5, 6, 99], [7, 8, 9], [10, 11, 12], [10, 11, 12]]\n",
            "Array setelah menghapus element pada indeks ke-1 dari baris ke-2: [[1, 3], [4, 6, 99], [7, 8, 9], [10, 11, 12], [10, 11, 12]]\n"
          ]
        }
      ]
    },
    {
      "cell_type": "markdown",
      "source": [
        "# **Latihan 8**"
      ],
      "metadata": {
        "id": "j1suNsAzBJce"
      }
    },
    {
      "cell_type": "code",
      "source": [
        "matriks = [\n",
        "    [1, 2, 3],\n",
        "    [4, 5, 6],\n",
        "    [7, 8, 9],\n",
        "    [10, 11, 12]\n",
        "]\n",
        "\n",
        "matriks[3].pop(2)\n",
        "print(\"Array setelah penghapusan elemen terakhir di baris ketiga\", matriks)"
      ],
      "metadata": {
        "colab": {
          "base_uri": "https://localhost:8080/"
        },
        "id": "UZbap4BUA9M6",
        "outputId": "6d051ed6-1b0a-4238-db6b-3a1759fe457c"
      },
      "execution_count": null,
      "outputs": [
        {
          "output_type": "stream",
          "name": "stdout",
          "text": [
            "Array setelah penghapusan elemen terakhir di baris ketiga [[1, 2, 3], [4, 5, 6], [7, 8, 9], [10, 11]]\n"
          ]
        }
      ]
    },
    {
      "cell_type": "code",
      "source": [
        "#mengubah element pada baris ke-3 dan kolom ke-2\n",
        "matriks[2][1] = 88\n",
        "print(\"Array setelah mengubah element baris ke-3 dan kolom ke-2:\", matriks)"
      ],
      "metadata": {
        "colab": {
          "base_uri": "https://localhost:8080/"
        },
        "id": "03u4y7kuDOLb",
        "outputId": "8ef0baa9-1c76-4e4f-eaff-43244ce34369"
      },
      "execution_count": null,
      "outputs": [
        {
          "output_type": "stream",
          "name": "stdout",
          "text": [
            "Array setelah mengubah element baris ke-3 dan kolom ke-2: [[1, 2, 3], [4, 5, 6], [7, 88, 9], [10, 11]]\n"
          ]
        }
      ]
    },
    {
      "cell_type": "markdown",
      "source": [
        "# **Latihan 9**"
      ],
      "metadata": {
        "id": "Fb63NG55D6N2"
      }
    },
    {
      "cell_type": "code",
      "source": [
        "matriks = [\n",
        "    [1, 2, 3],\n",
        "    [4, 5, 6],\n",
        "    [7, 8, 9],\n",
        "    [10, 11, 12]\n",
        "]\n",
        "\n",
        "matriks[3][2] = 16\n",
        "print(\"Array setelah mengubah element baris ke-3 dan kolom ke-2:\", matriks)"
      ],
      "metadata": {
        "colab": {
          "base_uri": "https://localhost:8080/"
        },
        "id": "X5kaTJRtDdRg",
        "outputId": "d75b7f93-944e-4c1f-cdc3-ccf070446d16"
      },
      "execution_count": null,
      "outputs": [
        {
          "output_type": "stream",
          "name": "stdout",
          "text": [
            "Array setelah mengubah element baris ke-3 dan kolom ke-2: [[1, 2, 3], [4, 5, 6], [7, 8, 9], [10, 11, 16]]\n"
          ]
        }
      ]
    },
    {
      "cell_type": "code",
      "source": [
        "belanja = [\"Beras\", \"Gula\", \"Minyak\"]\n",
        "belanja.append(\"Telur\")\n",
        "belanja.remove(\"Gula\")\n",
        "print(\"belanjaan Terbaru:\", belanja)"
      ],
      "metadata": {
        "colab": {
          "base_uri": "https://localhost:8080/"
        },
        "id": "nlI-2pfJD2Ca",
        "outputId": "d8e62bea-d2e2-459e-d762-4d98409a6b18"
      },
      "execution_count": null,
      "outputs": [
        {
          "output_type": "stream",
          "name": "stdout",
          "text": [
            "belanjaan Terbaru: ['Beras', 'Minyak', 'Telur']\n"
          ]
        }
      ]
    },
    {
      "cell_type": "markdown",
      "source": [
        "# **Latihan 10**"
      ],
      "metadata": {
        "id": "R8a4CUK5Xgdx"
      }
    },
    {
      "cell_type": "code",
      "source": [
        "jajan = [\"Wafer\", \"Roti\", \"kue\"]\n",
        "jajan.append(\"Susu\")\n",
        "jajan.remove(\"kue\")\n",
        "print(\"jajan sekarang:\",jajan)"
      ],
      "metadata": {
        "colab": {
          "base_uri": "https://localhost:8080/"
        },
        "id": "u5yVKauwENvS",
        "outputId": "ecf87ee2-18dd-45dc-d50d-3eec6b5505bb"
      },
      "execution_count": null,
      "outputs": [
        {
          "output_type": "stream",
          "name": "stdout",
          "text": [
            "jajan sekarang: ['Wafer', 'Roti', 'Susu']\n"
          ]
        }
      ]
    },
    {
      "cell_type": "markdown",
      "source": [
        "# **Treasure Hunt**"
      ],
      "metadata": {
        "id": "kMhZDxVhE1W2"
      }
    },
    {
      "cell_type": "code",
      "source": [
        "size = 10\n",
        "\n",
        "treasure_map = [\"_\" for _ in range(size)]\n",
        "\n",
        "print(f\"selamat datang di Treasure Hunt ! Peta memiliki {size} lokasi (0 hingga {size-1}). \")\n",
        "treasure_index = int(input(f\"Masukan lokasi harta karun (0 hingga {size-1}): \"))\n",
        "while treasure_index < 0 or treasure_index >= size:\n",
        "  print(\"Lokasi tidak valid. Masukkan angka dalam rentan yang benar.\")\n",
        "  treasure_index = int(input(f\"Masukan lokasi harta karun (0 hingga {size-1}): \"))\n",
        "\n",
        "treasure_map[treasure_index] = \"X\"\n",
        "\n",
        "def play_treasure_hunt():\n",
        "  print (\"\\nHarta karun telah disembunyikan! Sekarang giliran pemain menebak\")\n",
        "  print (\"Cobalah untuk menemukan harta karun dengan menebak indeks yang benar.\")\n",
        "  while True:\n",
        "    print (\"\\nPeta saat ini: \", [\"_\" for _ in range(size)])\n",
        "    try:\n",
        "      guess = int(input(f\"Masukkan indeks tebakanmu (0 hingga {size-1}): \"))\n",
        "    except ValueError:\n",
        "      print(\"Masukkan angka yang valid.\")\n",
        "      continue\n",
        "\n",
        "    if guess < 0 or guess >= size:\n",
        "      print(\"Indeks tidak valid, pilih antara 0 hingga\", size-1)\n",
        "      continue\n",
        "\n",
        "    if treasure_map[guess] == \"X\":\n",
        "      print(\"Selamat! Kamu menemukan harta karus di lokasi:\", guess)\n",
        "      break\n",
        "    else:\n",
        "      print(\"Tidak ada harta di lokasi ini. Coba lagi!\")\n",
        "\n",
        "play_treasure_hunt()"
      ],
      "metadata": {
        "colab": {
          "base_uri": "https://localhost:8080/"
        },
        "id": "3ET_SbksErCQ",
        "outputId": "a113ad45-bacf-4537-d890-00427cacb70e"
      },
      "execution_count": null,
      "outputs": [
        {
          "output_type": "stream",
          "name": "stdout",
          "text": [
            "selamat datang di Treasure Hunt ! Peta memiliki 10 lokasi (0 hingga 9). \n",
            "Masukan lokasi harta karun (0 hingga 9): 12\n",
            "Lokasi tidak valid. Masukkan angka dalam rentan yang benar.\n",
            "Masukan lokasi harta karun (0 hingga 9): 9\n",
            "\n",
            "Harta karun telah disembunyikan! Sekarang giliran pemain menebak\n",
            "Cobalah untuk menemukan harta karun dengan menebak indeks yang benar.\n",
            "\n",
            "Peta saat ini:  ['_', '_', '_', '_', '_', '_', '_', '_', '_', '_']\n",
            "Masukkan indeks tebakanmu (0 hingga 9): 1\n",
            "Tidak ada harta di lokasi ini. Coba lagi!\n",
            "\n",
            "Peta saat ini:  ['_', '_', '_', '_', '_', '_', '_', '_', '_', '_']\n",
            "Masukkan indeks tebakanmu (0 hingga 9): 9\n",
            "Selamat! Kamu menemukan harta karus di lokasi: 9\n"
          ]
        }
      ]
    },
    {
      "cell_type": "markdown",
      "source": [
        "Tugas A"
      ],
      "metadata": {
        "id": "OaLYkfReGYv3"
      }
    },
    {
      "cell_type": "code",
      "source": [
        "size =int(input(\"Masukkan ukuran peta: \"))\n",
        "\n",
        "treasure_map = [\"_\" for _ in range(size)]\n",
        "\n",
        "print(f\"selamat datang di Treasure Hunt ! Peta memiliki {size} lokasi (0 hingga {size-1}). \")\n",
        "treasure_index = int(input(f\"Masukan lokasi harta karun (0 hingga {size-1}): \"))\n",
        "while treasure_index < 0 or treasure_index >= size:\n",
        "  print(\"Lokasi tidak valid. Masukkan angka dalam rentan yang benar.\")\n",
        "  treasure_index = int(input(f\"Masukan lokasi harta karun (0 hingga {size-1}): \"))\n",
        "\n",
        "treasure_map[treasure_index] = \"X\"\n",
        "\n",
        "def play_treasure_hunt():\n",
        "  print (\"\\nHarta karun telah disembunyikan! Sekarang giliran pemain menebak\")\n",
        "  print (\"Cobalah untuk menemukan harta karun dengan menebak indeks yang benar.\")\n",
        "  while True:\n",
        "    print (\"\\nPeta saat ini: \", [\"_\" for _ in range(size)])\n",
        "    try:\n",
        "      guess = int(input(f\"Masukkan indeks tebakanmu (0 hingga {size-1}): \"))\n",
        "    except ValueError:\n",
        "      print(\"Masukkan angka yang valid.\")\n",
        "      continue\n",
        "\n",
        "    if guess < 0 or guess >= size:\n",
        "      print(\"Indeks tidak valid, pilih antara 0 hingga\", size-1)\n",
        "      continue\n",
        "\n",
        "    if treasure_map[guess] == \"X\":\n",
        "      print(\"Selamat! Kamu menemukan harta karus di lokasi:\", guess)\n",
        "      break\n",
        "    else:\n",
        "      print(\"Tidak ada harta di lokasi ini. Coba lagi!\")\n",
        "\n",
        "play_treasure_hunt()"
      ],
      "metadata": {
        "colab": {
          "base_uri": "https://localhost:8080/"
        },
        "id": "i8L20nJDE8TG",
        "outputId": "54530512-07d9-458c-fad4-41a8a1d0a449"
      },
      "execution_count": null,
      "outputs": [
        {
          "output_type": "stream",
          "name": "stdout",
          "text": [
            "Masukkan ukuran peta: 14\n",
            "selamat datang di Treasure Hunt ! Peta memiliki 14 lokasi (0 hingga 13). \n",
            "Masukan lokasi harta karun (0 hingga 13): 14\n",
            "Lokasi tidak valid. Masukkan angka dalam rentan yang benar.\n",
            "Masukan lokasi harta karun (0 hingga 13): 2\n",
            "\n",
            "Harta karun telah disembunyikan! Sekarang giliran pemain menebak\n",
            "Cobalah untuk menemukan harta karun dengan menebak indeks yang benar.\n",
            "\n",
            "Peta saat ini:  ['_', '_', '_', '_', '_', '_', '_', '_', '_', '_', '_', '_', '_', '_']\n",
            "Masukkan indeks tebakanmu (0 hingga 13): 2\n",
            "Selamat! Kamu menemukan harta karus di lokasi: 2\n"
          ]
        }
      ]
    },
    {
      "cell_type": "markdown",
      "source": [
        "Tugas B"
      ],
      "metadata": {
        "id": "3Na_N_3pGWev"
      }
    },
    {
      "cell_type": "code",
      "source": [
        "import random\n",
        "size = 10\n",
        "\n",
        "treasure_map = [\"_\" for _ in range(size)]\n",
        "\n",
        "print(f\"selamat datang di Treasure Hunt ! Peta memiliki {size} lokasi (0 hingga {size-1}). \")\n",
        "treasure_index = random.randint(0, size-1)\n",
        "print(f\"Harta karun telah disembunyikan di lokasi acak. Cobalah untuk menemukannya!\")\n",
        "while treasure_index < 0 or treasure_index >= size:\n",
        "  print(\"Lokasi tidak valid. Masukkan angka dalam rentan yang benar.\")\n",
        "  treasure_index = int(input(f\"Masukan lokasi harta karun (0 hingga {size-1}): \"))\n",
        "\n",
        "treasure_map[treasure_index] = \"X\"\n",
        "\n",
        "def play_treasure_hunt():\n",
        "  print (\"\\nHarta karun telah disembunyikan! Sekarang giliran pemain menebak\")\n",
        "  print (\"Cobalah untuk menemukan harta karun dengan menebak indeks yang benar.\")\n",
        "  while True:\n",
        "    print (\"\\nPeta saat ini: \", [\"_\" for _ in range(size)])\n",
        "    try:\n",
        "      guess = int(input(f\"Masukkan indeks tebakanmu (0 hingga {size-1}): \"))\n",
        "    except ValueError:\n",
        "      print(\"Masukkan angka yang valid.\")\n",
        "      continue\n",
        "\n",
        "    if guess < 0 or guess >= size:\n",
        "      print(\"Indeks tidak valid, pilih antara 0 hingga\", size-1)\n",
        "      continue\n",
        "\n",
        "    if treasure_map[guess] == \"X\":\n",
        "      print(\"Selamat! Kamu menemukan harta karus di lokasi:\", guess)\n",
        "      break\n",
        "    else:\n",
        "      print(\"Tidak ada harta di lokasi ini. Coba lagi!\")\n",
        "\n",
        "play_treasure_hunt()"
      ],
      "metadata": {
        "colab": {
          "base_uri": "https://localhost:8080/"
        },
        "id": "iereF6PoFoqq",
        "outputId": "2b44fcb1-6d3c-4391-c100-f1b94b020397"
      },
      "execution_count": null,
      "outputs": [
        {
          "output_type": "stream",
          "name": "stdout",
          "text": [
            "selamat datang di Treasure Hunt ! Peta memiliki 10 lokasi (0 hingga 9). \n",
            "Harta karun telah disembunyikan di lokasi acak. Cobalah untuk menemukannya!\n",
            "\n",
            "Harta karun telah disembunyikan! Sekarang giliran pemain menebak\n",
            "Cobalah untuk menemukan harta karun dengan menebak indeks yang benar.\n",
            "\n",
            "Peta saat ini:  ['_', '_', '_', '_', '_', '_', '_', '_', '_', '_']\n",
            "Masukkan indeks tebakanmu (0 hingga 9): 9\n",
            "Tidak ada harta di lokasi ini. Coba lagi!\n",
            "\n",
            "Peta saat ini:  ['_', '_', '_', '_', '_', '_', '_', '_', '_', '_']\n",
            "Masukkan indeks tebakanmu (0 hingga 9): 8\n",
            "Tidak ada harta di lokasi ini. Coba lagi!\n",
            "\n",
            "Peta saat ini:  ['_', '_', '_', '_', '_', '_', '_', '_', '_', '_']\n",
            "Masukkan indeks tebakanmu (0 hingga 9): 7\n",
            "Tidak ada harta di lokasi ini. Coba lagi!\n",
            "\n",
            "Peta saat ini:  ['_', '_', '_', '_', '_', '_', '_', '_', '_', '_']\n",
            "Masukkan indeks tebakanmu (0 hingga 9): 6\n",
            "Tidak ada harta di lokasi ini. Coba lagi!\n",
            "\n",
            "Peta saat ini:  ['_', '_', '_', '_', '_', '_', '_', '_', '_', '_']\n",
            "Masukkan indeks tebakanmu (0 hingga 9): 5\n",
            "Tidak ada harta di lokasi ini. Coba lagi!\n",
            "\n",
            "Peta saat ini:  ['_', '_', '_', '_', '_', '_', '_', '_', '_', '_']\n",
            "Masukkan indeks tebakanmu (0 hingga 9): \n",
            "Masukkan angka yang valid.\n",
            "\n",
            "Peta saat ini:  ['_', '_', '_', '_', '_', '_', '_', '_', '_', '_']\n",
            "Masukkan indeks tebakanmu (0 hingga 9): 4\n",
            "Tidak ada harta di lokasi ini. Coba lagi!\n",
            "\n",
            "Peta saat ini:  ['_', '_', '_', '_', '_', '_', '_', '_', '_', '_']\n",
            "Masukkan indeks tebakanmu (0 hingga 9): 3\n",
            "Tidak ada harta di lokasi ini. Coba lagi!\n",
            "\n",
            "Peta saat ini:  ['_', '_', '_', '_', '_', '_', '_', '_', '_', '_']\n",
            "Masukkan indeks tebakanmu (0 hingga 9): 2\n",
            "Selamat! Kamu menemukan harta karus di lokasi: 2\n"
          ]
        }
      ]
    }
  ]
}